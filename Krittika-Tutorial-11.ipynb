{
 "cells": [
  {
   "cell_type": "markdown",
   "id": "f64330c9",
   "metadata": {},
   "source": [
    "# Tut 11\n",
    "\n",
    "this tutorial mainly deals with classes in python and defining star objects etc.\n",
    "\n",
    "Task:\n",
    " Make a class for a filter read from a FITS file. Each object of this class should be for a specific filter(for instance, U/G/R/I/Z). The class should have the following attributes:\n",
    "\n",
    "1)An array containing the quantum efficiency values for that filter as an instance attribute.\n",
    "2)An array containing the wavelength values as an instance attribute.\n",
    "\n",
    "The class should contain the following functions :\n",
    "\n",
    "1)An __init__() function which initializes the array for quantum efficiency .\n",
    "2)A member function calc_intensity() which calculates the intensity of a star given an object of a star class as its argument.\n",
    "\n"
   ]
  },
  {
   "cell_type": "code",
   "execution_count": 84,
   "id": "51175657",
   "metadata": {},
   "outputs": [],
   "source": [
    "import numpy as np\n",
    "import matplotlib.pyplot as plt\n",
    "from astropy import constants as const\n",
    "from astropy import units as u \n",
    "from astropy.io import fits\n",
    "#imports\n"
   ]
  },
  {
   "cell_type": "code",
   "execution_count": 88,
   "id": "257d5b4f",
   "metadata": {},
   "outputs": [],
   "source": [
    "def B(wl,T):    #planck's law function\n",
    "    exponential = 1/(np.exp(h*c/(wl*kB*T))-1)\n",
    "    prefactor = 2*np.pi*h*c*c/wl**5\n",
    "    return prefactor*exponential\n",
    "\n",
    "\n",
    "\n",
    "h = const.h\n",
    "c = const.c\n",
    "kB = const.k_B\n",
    "#constants"
   ]
  },
  {
   "cell_type": "code",
   "execution_count": 89,
   "id": "caef038e",
   "metadata": {},
   "outputs": [],
   "source": [
    "class star(object):      # class star that stores temperature, radius and distance\n",
    "    def __init__(self, temp,rad,dist):\n",
    "        self.Temp = temp*u.K\n",
    "        self.Radius = rad*u.Rsun\n",
    "        self.distance = dist.to(u.lightyear)\n",
    "    \n",
    "    def print_star(self): #member function to print star details\n",
    "        print(f'Temperature={self.Temp}  \\n Radius={self.Radius} \\n Distance={self.distance}')"
   ]
  },
  {
   "cell_type": "code",
   "execution_count": 94,
   "id": "71352a0a",
   "metadata": {},
   "outputs": [
    {
     "name": "stdout",
     "output_type": "stream",
     "text": [
      "Temperature=9940.0 K  \n",
      " Radius=1.711 solRad \n",
      " Distance=8.610528371722024 lyr\n"
     ]
    },
    {
     "data": {
      "text/latex": [
       "$3.0896241 \\times 10^{-10} \\; \\mathrm{\\frac{W}{m^{2}}}$"
      ],
      "text/plain": [
       "<Quantity 3.08962407e-10 W / m2>"
      ]
     },
     "execution_count": 94,
     "metadata": {},
     "output_type": "execute_result"
    }
   ],
   "source": [
    "class fits_():  #class fits that stores the quantum efficiency and the corresponding wavelengths as arrays\n",
    "    def __init__(self,filter_):\n",
    "        self.qf=filter_.data['respt'] \n",
    "        self.wvl=filter_.data['wavelength']*u.AA\n",
    "        \n",
    "        \n",
    "    def calc_intensity(self,star_): #member function to take a star and output its measured total intensity for that given filter\n",
    "        integral = 0*u.W/u.m**2\n",
    "        i = 1\n",
    "        while i < len(self.wvl):\n",
    "            integral += B((self.wvl[i-1]+self.wvl[i])/2 , star_.Temp)*(self.qf[i-1]+self.qf[i])/2*(self.wvl[i]-self.wvl[i-1])\n",
    "            i = i + 1\n",
    "        intensity = integral*(star_.Radius/star_.distance)**2\n",
    "        \n",
    "        return intensity.to(u.W/u.m**2)\n",
    "    \n",
    "SDSS_filter = fits.open('tutorials//Tutorial_11//filter_curves.fits')#input filter data\n",
    "\n",
    "U = SDSS_filter[1]\n",
    "G = SDSS_filter[2]\n",
    "R = SDSS_filter[3]\n",
    "I = SDSS_filter[4]\n",
    "Z = SDSS_filter[5]\n",
    "U=fits_(U)\n",
    "G=fits_(G)\n",
    "R=fits_(R)\n",
    "I=fits_(I)\n",
    "Z=fits_(Z)\n",
    "\n",
    "#extraxt the filter data and create fits objects for each of the bands\n",
    "\n",
    "\n",
    "Sirius=star(9940,1.711,2.64 * u.pc)  #create star object Sirius with properties of the star.\n",
    "Sirius.print_star()\n",
    "Z.calc_intensity(Sirius)#calculate intensity for Sirius"
   ]
  },
  {
   "cell_type": "code",
   "execution_count": null,
   "id": "a322f572",
   "metadata": {},
   "outputs": [],
   "source": []
  }
 ],
 "metadata": {
  "kernelspec": {
   "display_name": "Python 3 (ipykernel)",
   "language": "python",
   "name": "python3"
  },
  "language_info": {
   "codemirror_mode": {
    "name": "ipython",
    "version": 3
   },
   "file_extension": ".py",
   "mimetype": "text/x-python",
   "name": "python",
   "nbconvert_exporter": "python",
   "pygments_lexer": "ipython3",
   "version": "3.8.8"
  }
 },
 "nbformat": 4,
 "nbformat_minor": 5
}
