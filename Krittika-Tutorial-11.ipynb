{
 "cells": [
  {
   "cell_type": "code",
   "execution_count": 84,
   "id": "51175657",
   "metadata": {},
   "outputs": [],
   "source": [
    "import numpy as np\n",
    "import matplotlib.pyplot as plt\n",
    "from astropy import constants as const\n",
    "from astropy import units as u \n",
    "from astropy.io import fits\n"
   ]
  },
  {
   "cell_type": "code",
   "execution_count": 88,
   "id": "257d5b4f",
   "metadata": {},
   "outputs": [],
   "source": [
    "def B(wl,T): \n",
    "    exponential = 1/(np.exp(h*c/(wl*kB*T))-1)\n",
    "    prefactor = 2*np.pi*h*c*c/wl**5\n",
    "    return prefactor*exponential\n",
    "\n",
    "h = const.h\n",
    "c = const.c\n",
    "kB = const.k_B\n"
   ]
  },
  {
   "cell_type": "code",
   "execution_count": 89,
   "id": "caef038e",
   "metadata": {},
   "outputs": [],
   "source": [
    "class star(object):    \n",
    "    def __init__(self, temp,rad,dist):\n",
    "        self.Temp = temp*u.K\n",
    "        self.Radius = rad*u.Rsun\n",
    "        self.distance = dist.to(u.lightyear)\n",
    "    \n",
    "    def print_star(self):\n",
    "        print(f'Temperature={self.Temp}  \\n Radius={self.Radius} \\n Distance={self.distance}')"
   ]
  },
  {
   "cell_type": "code",
   "execution_count": 94,
   "id": "71352a0a",
   "metadata": {},
   "outputs": [
    {
     "name": "stdout",
     "output_type": "stream",
     "text": [
      "Temperature=9940.0 K  \n",
      " Radius=1.711 solRad \n",
      " Distance=8.610528371722024 lyr\n"
     ]
    },
    {
     "data": {
      "text/latex": [
       "$3.0896241 \\times 10^{-10} \\; \\mathrm{\\frac{W}{m^{2}}}$"
      ],
      "text/plain": [
       "<Quantity 3.08962407e-10 W / m2>"
      ]
     },
     "execution_count": 94,
     "metadata": {},
     "output_type": "execute_result"
    }
   ],
   "source": [
    "class fits_():\n",
    "    def __init__(self,filter_):\n",
    "        self.qf=filter_.data['respt'] \n",
    "        self.wvl=filter_.data['wavelength']*u.AA\n",
    "        \n",
    "        \n",
    "    def calc_intensity(self,star_):\n",
    "        integral = 0*u.W/u.m**2\n",
    "        i = 1\n",
    "        while i < len(self.wvl):\n",
    "            integral += B((self.wvl[i-1]+self.wvl[i])/2 , star_.Temp)*(self.qf[i-1]+self.qf[i])/2*(self.wvl[i]-self.wvl[i-1])\n",
    "            i = i + 1\n",
    "        intensity = integral*(star_.Radius/star_.distance)**2\n",
    "        \n",
    "        return intensity.to(u.W/u.m**2)\n",
    "    \n",
    "SDSS_filter = fits.open('tutorials//Tutorial_11//filter_curves.fits')\n",
    "\n",
    "U = SDSS_filter[1]\n",
    "G = SDSS_filter[2]\n",
    "R = SDSS_filter[3]\n",
    "I = SDSS_filter[4]\n",
    "Z = SDSS_filter[5]\n",
    "U=fits_(U)\n",
    "G=fits_(G)\n",
    "R=fits_(R)\n",
    "I=fits_(I)\n",
    "Z=fits_(Z)\n",
    "\n",
    "Sirius=star(9940,1.711,2.64 * u.pc) \n",
    "Sirius.print_star()\n",
    "Z.calc_intensity(Sirius)"
   ]
  },
  {
   "cell_type": "code",
   "execution_count": null,
   "id": "a322f572",
   "metadata": {},
   "outputs": [],
   "source": []
  }
 ],
 "metadata": {
  "kernelspec": {
   "display_name": "Python 3 (ipykernel)",
   "language": "python",
   "name": "python3"
  },
  "language_info": {
   "codemirror_mode": {
    "name": "ipython",
    "version": 3
   },
   "file_extension": ".py",
   "mimetype": "text/x-python",
   "name": "python",
   "nbconvert_exporter": "python",
   "pygments_lexer": "ipython3",
   "version": "3.8.8"
  }
 },
 "nbformat": 4,
 "nbformat_minor": 5
}
